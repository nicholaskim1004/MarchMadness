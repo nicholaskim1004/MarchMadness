{
 "cells": [
  {
   "cell_type": "markdown",
   "metadata": {},
   "source": [
    "## Bracket Challenge Predictor\n",
    "\n",
    "Reading data"
   ]
  },
  {
   "cell_type": "code",
   "execution_count": 5,
   "metadata": {},
   "outputs": [],
   "source": [
    "import pandas as pd\n",
    "import numpy as np\n",
    "import matplotlib as plt\n",
    "\n",
    "from sklearn.metrics import mean_squared_error\n",
    "from sklearn.linear_model import LinearRegression\n",
    "from sklearn.model_selection import KFold\n",
    "\n",
    "from xgboost import XGBRegressor"
   ]
  },
  {
   "cell_type": "code",
   "execution_count": 80,
   "metadata": {},
   "outputs": [
    {
     "name": "stderr",
     "output_type": "stream",
     "text": [
      "/var/folders/g4/t1q9yqqx7h36p5_2jzq23jsw0000gn/T/ipykernel_28025/197528209.py:18: DtypeWarning: Columns (144) have mixed types. Specify dtype option on import or set low_memory=False.\n",
      "  ken_conf = pd.read_csv(\"/Users/nicholaskim/Documents/Repositories/bracket challenge/data/DEV _ March Madness.csv\")\n"
     ]
    }
   ],
   "source": [
    "team_matchups = pd.read_csv(\"/Users/nicholaskim/Documents/Repositories/bracket challenge/data/Tournament Matchups.csv\")\n",
    "\n",
    "away_stats = pd.read_csv(\"/Users/nicholaskim/Documents/Repositories/bracket challenge/data/Barttorvik Away.csv\")\n",
    "homme_stats = pd.read_csv(\"/Users/nicholaskim/Documents/Repositories/bracket challenge/data/Barttorvik Home.csv\")\n",
    "neutral_stats = pd.read_csv(\"/Users/nicholaskim/Documents/Repositories/bracket challenge/data/Barttorvik Neutral.csv\")\n",
    "conf_perf = pd.read_csv(\"/Users/nicholaskim/Documents/Repositories/bracket challenge/data/Conference Stats.csv\")\n",
    "team_res = pd.read_csv(\"/Users/nicholaskim/Documents/Repositories/bracket challenge/data/Team Results.csv\")\n",
    "team_v_ranked = pd.read_csv(\"/Users/nicholaskim/Documents/Repositories/bracket challenge/data/TeamRankings.csv\")\n",
    "team_shot_dis = pd.read_csv(\"/Users/nicholaskim/Documents/Repositories/bracket challenge/data/Shooting Splits.csv\")\n",
    "\n",
    "ken_def = pd.read_csv(\"/Users/nicholaskim/Documents/Repositories/bracket challenge/data/INT _ KenPom _ Defense.csv\")\n",
    "ken_off = pd.read_csv(\"/Users/nicholaskim/Documents/Repositories/bracket challenge/data/INT _ KenPom _ Offense.csv\")\n",
    "ken_eff = pd.read_csv(\"/Users/nicholaskim/Documents/Repositories/bracket challenge/data/INT _ KenPom _ Efficiency.csv\")\n",
    "ken_height = pd.read_csv(\"/Users/nicholaskim/Documents/Repositories/bracket challenge/data/INT _ KenPom _ Height.csv\")\n",
    "ken_mis = pd.read_csv(\"/Users/nicholaskim/Documents/Repositories/bracket challenge/data/INT _ KenPom _ Miscellaneous Team Stats.csv\")\n",
    "ken_pt_dis = pd.read_csv(\"/Users/nicholaskim/Documents/Repositories/bracket challenge/data/INT _ KenPom _ Point Distribution.csv\")\n",
    "ken_summ = pd.read_csv(\"/Users/nicholaskim/Documents/Repositories/bracket challenge/data/INT _ KenPom _ Summary.csv\")\n",
    "ken_conf = pd.read_csv(\"/Users/nicholaskim/Documents/Repositories/bracket challenge/data/DEV _ March Madness.csv\")\n",
    "\n",
    "conf_mapping = pd.read_csv(\"/Users/nicholaskim/Documents/Repositories/bracket challenge/data/REF _ NCAAM Conference and ESPN Team Name Mapping.csv\")\n",
    "\n",
    "cur_coaches = pd.read_csv(\"/Users/nicholaskim/Documents/Repositories/bracket challenge/data/REF _ Current NCAAM Coaches.csv\")\n",
    "coach_perf = pd.read_csv(\"/Users/nicholaskim/Documents/Repositories/bracket challenge/data/Coach Results.csv\")\n",
    "\n",
    "seed_res = pd.read_csv(\"/Users/nicholaskim/Documents/Repositories/bracket challenge/data/Seed Results.csv\")\n",
    "upset_count = pd.read_csv(\"/Users/nicholaskim/Documents/Repositories/bracket challenge/data/Upset Count.csv\")\n",
    "upset_inf = pd.read_csv(\"/Users/nicholaskim/Documents/Repositories/bracket challenge/data/Upset Seed Info.csv\")"
   ]
  },
  {
   "cell_type": "markdown",
   "metadata": {},
   "source": [
    "since ken_ datasets don't have TEAMNO var will first create seperate lookup table to create a column for its respective id"
   ]
  },
  {
   "cell_type": "code",
   "execution_count": 81,
   "metadata": {},
   "outputs": [],
   "source": [
    "team_ids = team_matchups[['YEAR','TEAM','TEAM NO']].drop_duplicates()\n",
    "\n",
    "ken_def.rename(columns={'Season':'YEAR','TeamName':'TEAM'},inplace=True)\n",
    "ken_off.rename(columns={'Season':'YEAR','TeamName':'TEAM'},inplace=True)\n",
    "ken_eff.rename(columns={'Season':'YEAR','Team':'TEAM'},inplace=True)\n",
    "ken_height.rename(columns={'Season':'YEAR','TeamName':'TEAM'},inplace=True)\n",
    "ken_mis.rename(columns={'Season':'YEAR','TeamName':'TEAM'},inplace=True)\n",
    "ken_pt_dis.rename(columns={'Season':'YEAR','TeamName':'TEAM'},inplace=True)\n",
    "ken_summ.rename(columns={'Season':'YEAR','TeamName':'TEAM'},inplace=True)\n",
    "\n",
    "\n",
    "ken_def = ken_def.merge(team_ids,on=['YEAR','TEAM'],how='left')\n",
    "ken_off = ken_off.merge(team_ids,on=['YEAR','TEAM'],how='left')\n",
    "ken_eff = ken_eff.merge(team_ids,on=['YEAR','TEAM'],how='left')\n",
    "ken_height = ken_height.merge(team_ids,on=['YEAR','TEAM'],how='left')\n",
    "ken_mist = ken_mis.merge(team_ids,on=['YEAR','TEAM'],how='left')\n",
    "ken_pt_dis = ken_pt_dis.merge(team_ids,on=['YEAR','TEAM'],how='left')\n"
   ]
  },
  {
   "cell_type": "code",
   "execution_count": 82,
   "metadata": {},
   "outputs": [],
   "source": [
    "conf_ids = conf_perf[['YEAR','CONF','CONF ID']].drop_duplicates()\n",
    "\n",
    "ken_conf.rename(columns={'Season':'YEAR','Short Conference Name':'CONF'},inplace=True)\n",
    "\n",
    "ken_conf = ken_conf.merge(conf_ids,on=['YEAR','CONF'],how='left')"
   ]
  },
  {
   "cell_type": "code",
   "execution_count": 86,
   "metadata": {},
   "outputs": [
    {
     "data": {
      "text/plain": [
       "Index(['YEAR', 'TEAM NO', 'TEAM ID', 'TEAM', 'SEED', 'ROUND', 'BADJ EM',\n",
       "       'BADJ O', 'BADJ D', 'BARTHAG', 'GAMES', 'W', 'L', 'WIN%', 'EFG%',\n",
       "       'EFG%D', 'FTR', 'FTRD', 'TOV%', 'TOV%D', 'OREB%', 'DREB%', 'OP OREB%',\n",
       "       'OP DREB%', 'RAW T', '2PT%', '2PT%D', '3PT%', '3PT%D', 'BLK%', 'BLKED%',\n",
       "       'AST%', 'OP AST%', '2PTR', '3PTR', '2PTRD', '3PTRD', 'BADJ T',\n",
       "       'AVG HGT', 'EFF HGT', 'EXP', 'TALENT', 'FT%', 'OP FT%', 'PPPO', 'PPPD',\n",
       "       'ELITE SOS', 'WAB', 'BADJ EM RANK', 'BADJ O RANK', 'BADJ D RANK',\n",
       "       'BARTHAG RANK', 'EFG% RANK', 'EFGD% RANK', 'FTR RANK', 'FTRD RANK',\n",
       "       'TOV% RANK', 'TOV%D RANK', 'OREB% RANK', 'DREB% RANK', 'OP OREB% RANK',\n",
       "       'OP DREB% RANK', 'RAW T RANK', '2PT% RANK', '2PT%D RANK', '3PT% RANK',\n",
       "       '3PT%D RANK', 'BLK% RANK', 'BLKED% RANK', 'AST% RANK', 'OP AST% RANK',\n",
       "       '2PTR RANK', '3PTR RANK', '2PTRD RANK', '3PTRD RANK', 'BADJT RANK',\n",
       "       'AVG HGT RANK', 'EFF HGT RANK', 'EXP RANK', 'TALENT RANK', 'FT% RANK',\n",
       "       'OP FT% RANK', 'PPPO RANK', 'PPPD RANK', 'ELITE SOS RANK'],\n",
       "      dtype='object')"
      ]
     },
     "execution_count": 86,
     "metadata": {},
     "output_type": "execute_result"
    }
   ],
   "source": [
    "away_stats.columns"
   ]
  },
  {
   "cell_type": "code",
   "execution_count": null,
   "metadata": {},
   "outputs": [],
   "source": [
    "away_stats.loc[['YEAR','TEAM NO','BADJ EM','BADJ O','BADJ D','WIN%','EFG%','EFG%D']]"
   ]
  }
 ],
 "metadata": {
  "kernelspec": {
   "display_name": "Python 3",
   "language": "python",
   "name": "python3"
  },
  "language_info": {
   "codemirror_mode": {
    "name": "ipython",
    "version": 3
   },
   "file_extension": ".py",
   "mimetype": "text/x-python",
   "name": "python",
   "nbconvert_exporter": "python",
   "pygments_lexer": "ipython3",
   "version": "3.9.6"
  }
 },
 "nbformat": 4,
 "nbformat_minor": 2
}
